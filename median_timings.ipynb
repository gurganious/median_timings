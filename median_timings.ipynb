{
 "cells": [
  {
   "cell_type": "code",
   "execution_count": 1,
   "metadata": {},
   "outputs": [
    {
     "name": "stderr",
     "output_type": "stream",
     "text": [
      "Loop datasets :   0%|                                    | 0/5 [00:00<?, ?it/s]\n",
      "Loop functions:   0%|                                    | 0/2 [00:00<?, ?it/s]\u001b[A\n",
      "Loop functions:  50%|██████████████              | 1/2 [00:02<00:02,  2.70s/it]\u001b[A\n",
      "Loop functions: 100%|████████████████████████████| 2/2 [00:06<00:00,  2.95s/it]\u001b[A\n",
      "Loop datasets :  20%|█████▌                      | 1/5 [00:06<00:24,  6.23s/it]\u001b[A\n",
      "Loop functions:   0%|                                    | 0/2 [00:00<?, ?it/s]\u001b[A\n",
      "Loop functions:  50%|██████████████              | 1/2 [00:04<00:04,  4.88s/it]\u001b[A\n",
      "Loop functions: 100%|████████████████████████████| 2/2 [00:09<00:00,  4.69s/it]\u001b[A\n",
      "Loop datasets :  40%|███████████▏                | 2/5 [00:15<00:21,  7.10s/it]\u001b[A\n",
      "Loop functions:   0%|                                    | 0/2 [00:00<?, ?it/s]\u001b[A\n",
      "Loop functions:  50%|██████████████              | 1/2 [00:05<00:05,  5.62s/it]\u001b[A\n",
      "Loop functions: 100%|████████████████████████████| 2/2 [00:08<00:00,  4.82s/it]\u001b[A\n",
      "Loop datasets :  60%|████████████████▊           | 3/5 [00:23<00:15,  7.55s/it]\u001b[A\n",
      "Loop functions:   0%|                                    | 0/2 [00:00<?, ?it/s]\u001b[A\n",
      "Loop functions:  50%|██████████████              | 1/2 [00:02<00:02,  2.52s/it]\u001b[A\n",
      "Loop functions: 100%|████████████████████████████| 2/2 [00:05<00:00,  2.64s/it]\u001b[A\n",
      "Loop datasets :  80%|██████████████████████▍     | 4/5 [00:29<00:06,  6.93s/it]\u001b[A\n",
      "Loop functions:   0%|                                    | 0/2 [00:00<?, ?it/s]\u001b[A\n",
      "Loop functions:  50%|██████████████              | 1/2 [00:03<00:03,  3.38s/it]\u001b[A\n",
      "Loop functions: 100%|████████████████████████████| 2/2 [00:05<00:00,  3.03s/it]\u001b[A\n",
      "                                                                               \u001b[A\r"
     ]
    },
    {
     "data": {
      "image/png": "[encoded data removed]",
      "text/plain": [
       "<Figure size 432x288 with 1 Axes>"
      ]
     },
     "metadata": {
      "needs_background": "light"
     },
     "output_type": "display_data"
    },
    {
     "data": {
      "text/plain": [
       "<matplotlib.axes._subplots.AxesSubplot at 0x1f5a46cc400>"
      ]
     },
     "execution_count": 1,
     "metadata": {},
     "output_type": "execute_result"
    }
   ],
   "source": [
    "from statistics import median\n",
    "from heapq import heapify\n",
    "from random import randint\n",
    "import numpy as np\n",
    "import benchit\n",
    "\n",
    "def median_stats(arr):\n",
    "    return median(arr)\n",
    "\n",
    "def median_kth_smallest(arr):\n",
    "    n = len(arr)\n",
    "    k = n // 2 + 1\n",
    "    return kthSmallest(arr, 0, n - 1, k)\n",
    "\n",
    "\n",
    "def kthSmallest(arr, l, r, k):  \n",
    "      \n",
    "    # If k is smaller than number of  \n",
    "    # elements in array  \n",
    "    if (k > 0 and k <= r - l + 1):  \n",
    "          \n",
    "        # Number of elements in arr[l..r]  \n",
    "        n = r - l + 1\n",
    "  \n",
    "        # Divide arr[] in groups of size 5,  \n",
    "        # calculate median of every group \n",
    "        # and store it in median[] array.  \n",
    "        median = [] \n",
    "  \n",
    "        i = 0\n",
    "        while (i < n // 5): \n",
    "            median.append(findMedian(arr, l + i * 5, 5)) \n",
    "            i += 1\n",
    "  \n",
    "        # For last group with less than 5 elements  \n",
    "        if (i * 5 < n): \n",
    "            median.append(findMedian(arr, l + i * 5,  \n",
    "                                              n % 5)) \n",
    "            i += 1\n",
    "  \n",
    "        # Find median of all medians using recursive call.  \n",
    "        # If median[] has only one element, then no need  \n",
    "        # of recursive call \n",
    "        if i == 1: \n",
    "            medOfMed = median[i - 1] \n",
    "        else: \n",
    "            medOfMed = kthSmallest(median, 0,  \n",
    "                                   i - 1, i // 2) \n",
    "  \n",
    "        # Partition the array around a medOfMed \n",
    "        # element and get position of pivot  \n",
    "        # element in sorted array  \n",
    "        pos = partition(arr, l, r, medOfMed) \n",
    "  \n",
    "        # If position is same as k  \n",
    "        if (pos - l == k - 1):  \n",
    "            return arr[pos]  \n",
    "        if (pos - l > k - 1): # If position is more,  \n",
    "                              # recur for left subarray  \n",
    "            return kthSmallest(arr, l, pos - 1, k)  \n",
    "  \n",
    "        # Else recur for right subarray  \n",
    "        return kthSmallest(arr, pos + 1, r,  k - pos + l - 1)  \n",
    "  \n",
    "    # If k is more than the number of  \n",
    "    # elements in the array  \n",
    "    return 999999999999\n",
    "  \n",
    "def swap(arr, a, b):  \n",
    "    temp = arr[a]  \n",
    "    arr[a] = arr[b]  \n",
    "    arr[b] = temp  \n",
    "  \n",
    "# It searches for x in arr[l..r],   \n",
    "# and partitions the array around x.  \n",
    "def partition(arr, l, r, x): \n",
    "    for i in range(l, r): \n",
    "        if arr[i] == x: \n",
    "            swap(arr, r, i) \n",
    "            break\n",
    "  \n",
    "    x = arr[r]  \n",
    "    i = l  \n",
    "    for j in range(l, r):  \n",
    "        if (arr[j] <= x):  \n",
    "            swap(arr, i, j)  \n",
    "            i += 1\n",
    "    swap(arr, i, r)  \n",
    "    return i  \n",
    "  \n",
    "# median of arr[] from index l to l+n \n",
    "def findMedian(arr, l, n): \n",
    "    lis = [] \n",
    "    for i in range(l, l + n): \n",
    "        lis.append(arr[i]) \n",
    "          \n",
    "    # Sort the array  \n",
    "    lis.sort() \n",
    "  \n",
    "    # Return the middle element \n",
    "    return lis[n // 2] \n",
    "\n",
    "funcs = [median_stats, median_kth_smallest]\n",
    "inputs = [[randint(0, 1000000) for _ in range(i)] for i in 10**np.arange(5)]\n",
    "\n",
    "t = benchit.timings(funcs, inputs)\n",
    "t.plot(logy=True, logx=True)"
   ]
  },
  {
   "cell_type": "code",
   "execution_count": null,
   "metadata": {},
   "outputs": [],
   "source": []
  }
 ],
 "metadata": {
  "kernelspec": {
   "display_name": "project_env",
   "language": "python",
   "name": "project_env"
  },
  "language_info": {
   "codemirror_mode": {
    "name": "ipython",
    "version": 3
   },
   "file_extension": ".py",
   "mimetype": "text/x-python",
   "name": "python",
   "nbconvert_exporter": "python",
   "pygments_lexer": "ipython3",
   "version": "3.8.3"
  }
 },
 "nbformat": 4,
 "nbformat_minor": 4
}
