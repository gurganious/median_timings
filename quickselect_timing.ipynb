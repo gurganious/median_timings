{
 "cells": [
  {
   "cell_type": "code",
   "execution_count": 1,
   "metadata": {},
   "outputs": [
    {
     "name": "stderr",
     "output_type": "stream",
     "text": [
      "Loop datasets :   0%|                                    | 0/5 [00:00<?, ?it/s]\n",
      "Loop functions:   0%|                                    | 0/2 [00:00<?, ?it/s]\u001b[A\n",
      "Loop functions:  50%|██████████████              | 1/2 [00:03<00:03,  3.62s/it]\u001b[A\n",
      "Loop functions: 100%|████████████████████████████| 2/2 [00:07<00:00,  3.72s/it]\u001b[A\n",
      "Loop datasets :  20%|█████▌                      | 1/5 [00:07<00:30,  7.60s/it]\u001b[A\n",
      "Loop functions:   0%|                                    | 0/2 [00:00<?, ?it/s]\u001b[A\n",
      "Loop functions:  50%|██████████████              | 1/2 [00:04<00:04,  4.00s/it]\u001b[A\n",
      "Loop functions: 100%|████████████████████████████| 2/2 [00:06<00:00,  3.50s/it]\u001b[A\n",
      "Loop datasets :  40%|███████████▏                | 2/5 [00:13<00:21,  7.22s/it]\u001b[A\n",
      "Loop functions:   0%|                                    | 0/2 [00:00<?, ?it/s]\u001b[A\n",
      "Loop functions:  50%|██████████████              | 1/2 [00:03<00:03,  3.61s/it]\u001b[A\n",
      "Loop functions: 100%|████████████████████████████| 2/2 [00:06<00:00,  3.39s/it]\u001b[A\n",
      "Loop datasets :  60%|████████████████▊           | 3/5 [00:20<00:14,  7.00s/it]\u001b[A\n",
      "Loop functions:   0%|                                    | 0/2 [00:00<?, ?it/s]\u001b[A\n",
      "Loop functions:  50%|██████████████              | 1/2 [00:02<00:02,  2.27s/it]\u001b[A\n",
      "Loop functions: 100%|████████████████████████████| 2/2 [00:04<00:00,  2.24s/it]\u001b[A\n",
      "Loop datasets :  80%|██████████████████████▍     | 4/5 [00:24<00:06,  6.23s/it]\u001b[A\n",
      "Loop functions:   0%|                                    | 0/2 [00:00<?, ?it/s]\u001b[A\n",
      "Loop functions:  50%|██████████████              | 1/2 [00:03<00:03,  3.27s/it]\u001b[A\n",
      "Loop functions: 100%|████████████████████████████| 2/2 [00:06<00:00,  3.32s/it]\u001b[A\n",
      "                                                                               \u001b[A\r"
     ]
    },
    {
     "data": {
      "image/png": "[encoded data removed]",
      "text/plain": [
       "<Figure size 432x288 with 1 Axes>"
      ]
     },
     "metadata": {
      "needs_background": "light"
     },
     "output_type": "display_data"
    },
    {
     "data": {
      "text/plain": [
       "<matplotlib.axes._subplots.AxesSubplot at 0x13f09a9b9d0>"
      ]
     },
     "execution_count": 1,
     "metadata": {},
     "output_type": "execute_result"
    }
   ],
   "source": [
    "from statistics import median\n",
    "from random import randint\n",
    "import numpy as np\n",
    "import benchit\n",
    "import sys\n",
    "\n",
    "def median_stats(arr):\n",
    "    return median(arr)\n",
    "\n",
    "def median_quickselect_(arr):\n",
    "    n = len(arr)\n",
    "    k = n // 2 + 1\n",
    "    return kthSmallest(arr, 0, n - 1, k)\n",
    "\n",
    "def med_quickselect(x):\n",
    "    # wrapper for median_quickselect_ where we pass a copy of the data\n",
    "    return median_quickselect_(x[:])\n",
    "\n",
    "# Python3 program of Quick Select \n",
    "\n",
    "# Standard partition process of QuickSort(). \n",
    "# It considers the last element as pivot \n",
    "# and moves all smaller element to left of \n",
    "# it and greater elements to right \n",
    "def partition(arr, l, r): \n",
    "    x = arr[r] \n",
    "    i = l \n",
    "    for j in range(l, r): \n",
    "        \n",
    "        if arr[j] <= x: \n",
    "            arr[i], arr[j] = arr[j], arr[i] \n",
    "            i += 1\n",
    "            \n",
    "    arr[i], arr[r] = arr[r], arr[i] \n",
    "    return i \n",
    "\n",
    "# finds the kth position (of the sorted array) \n",
    "# in a given unsorted array i.e this function \n",
    "# can be used to find both kth largest and \n",
    "# kth smallest element in the array. \n",
    "# ASSUMPTION: all elements in arr[] are distinct \n",
    "def kthSmallest(arr, l, r, k): \n",
    "\n",
    "    # if k is smaller than number of \n",
    "    # elements in array \n",
    "    if (k > 0 and k <= r - l + 1): \n",
    "\n",
    "        # Partition the array around last \n",
    "        # element and get position of pivot \n",
    "        # element in sorted array \n",
    "        index = partition(arr, l, r) \n",
    "\n",
    "        # if position is same as k \n",
    "        if (index - l == k - 1): \n",
    "            return arr[index] \n",
    "\n",
    "        # If position is more, recur \n",
    "        # for left subarray \n",
    "        if (index - l > k - 1): \n",
    "            return kthSmallest(arr, l, index - 1, k) \n",
    "\n",
    "        # Else recur for right subarray \n",
    "        return kthSmallest(arr, index + 1, r, \n",
    "                            k - index + l - 1) \n",
    "    return sys.max \n",
    "\n",
    "\n",
    "funcs = [median_stats, med_quickselect] \n",
    "inputs = [[randint(0, 1000000) for _ in range(i+1)] for i in 10**np.arange(5)]\n",
    "\n",
    "t = benchit.timings(funcs, inputs)\n",
    "t.plot(logy=True, logx=True)"
   ]
  },
  {
   "cell_type": "code",
   "execution_count": null,
   "metadata": {},
   "outputs": [],
   "source": []
  }
 ],
 "metadata": {
  "kernelspec": {
   "display_name": "project_env",
   "language": "python",
   "name": "project_env"
  },
  "language_info": {
   "codemirror_mode": {
    "name": "ipython",
    "version": 3
   },
   "file_extension": ".py",
   "mimetype": "text/x-python",
   "name": "python",
   "nbconvert_exporter": "python",
   "pygments_lexer": "ipython3",
   "version": "3.8.3"
  }
 },
 "nbformat": 4,
 "nbformat_minor": 4
}
